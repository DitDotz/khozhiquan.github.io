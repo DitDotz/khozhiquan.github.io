{
 "cells": [
  {
   "cell_type": "markdown",
   "metadata": {},
   "source": [
    "# Write a Python program to find those numbers which are divisible by 7 and multiple of 5, between 1500 and 2700 (both included)."
   ]
  },
  {
   "cell_type": "code",
   "execution_count": 2,
   "metadata": {},
   "outputs": [
    {
     "name": "stdout",
     "output_type": "stream",
     "text": [
      "[1505, 1540, 1575, 1610, 1645, 1680, 1715, 1750, 1785, 1820, 1855, 1890, 1925, 1960, 1995, 2030, 2065, 2100, 2135, 2170, 2205, 2240, 2275, 2310, 2345, 2380, 2415, 2450, 2485, 2520, 2555, 2590, 2625, 2660, 2695]\n"
     ]
    }
   ],
   "source": [
    "listofNumber = []\n",
    "for number in range(1500, 2701):\n",
    "    if number % 7 == 0 and number % 5 == 0:\n",
    "        listofNumber.append(number)\n",
    "print(listofNumber)"
   ]
  },
  {
   "cell_type": "markdown",
   "metadata": {
    "heading_collapsed": true
   },
   "source": [
    "# Write a Python program to convert temperatures to and from Celsius, Kelvin."
   ]
  },
  {
   "cell_type": "code",
   "execution_count": 2,
   "metadata": {
    "hidden": true
   },
   "outputs": [
    {
     "name": "stdout",
     "output_type": "stream",
     "text": [
      "Define temperature with units you would like converted.273K\n",
      "Temperature(C) = 0C\n",
      "Temperature(K) = 273K\n"
     ]
    }
   ],
   "source": [
    "def convert(temperature):\n",
    "\n",
    "    degrees = int(temperature[:-1])\n",
    "    units = str(temperature[-1])\n",
    "    if units == 'K':\n",
    "        Cconversion = degrees - 273\n",
    "        print('Temperature(C) = ' + str(Cconversion) + 'C')\n",
    "        print('Temperature(K) = ' + str(degrees) + 'K')\n",
    "\n",
    "    elif units == 'C':\n",
    "        Kconversion = degrees + 273\n",
    "        print('Temperature(C) = ' + str(degrees) + 'C')\n",
    "        print('Temperature(K) = ' + str(Kconversion) + 'K')\n",
    "    else:\n",
    "        print('Invalid input')\n",
    "\n",
    "\n",
    "inputTemperature = input(\n",
    "    'Define temperature with units you would like converted.')\n",
    "convert(str(inputTemperature))"
   ]
  },
  {
   "cell_type": "markdown",
   "metadata": {
    "heading_collapsed": true
   },
   "source": [
    "# Write a Python program to guess a number between 1 to 9"
   ]
  },
  {
   "cell_type": "code",
   "execution_count": 2,
   "metadata": {
    "hidden": true
   },
   "outputs": [
    {
     "name": "stdout",
     "output_type": "stream",
     "text": [
      "Enter your guess 11\n",
      "Try again\n",
      "Enter your guess 5\n",
      "Correct\n"
     ]
    }
   ],
   "source": [
    "import random \n",
    "\n",
    "number = random.randint(1,10)\n",
    "# print(number)\n",
    "\n",
    "while True:\n",
    "    yourGuess = int(input('Enter your guess '))\n",
    "    if yourGuess != number:\n",
    "        print ('Try again')\n",
    "\n",
    "    elif yourGuess == number:\n",
    "        print ('Correct')\n",
    "        break"
   ]
  },
  {
   "cell_type": "markdown",
   "metadata": {
    "heading_collapsed": true
   },
   "source": [
    "#  Write a Python program to construct the following pattern, using a nested for loop.\n"
   ]
  },
  {
   "cell_type": "code",
   "execution_count": 8,
   "metadata": {
    "hidden": true
   },
   "outputs": [
    {
     "data": {
      "text/plain": [
       "'\\n* \\n* * \\n* * * \\n* * * * \\n* * * * * \\n* * * * \\n* * * \\n* * \\n*\\n'"
      ]
     },
     "execution_count": 8,
     "metadata": {},
     "output_type": "execute_result"
    }
   ],
   "source": [
    "'''\n",
    "* \n",
    "* * \n",
    "* * * \n",
    "* * * * \n",
    "* * * * * \n",
    "* * * * \n",
    "* * * \n",
    "* * \n",
    "*\n",
    "'''"
   ]
  },
  {
   "cell_type": "code",
   "execution_count": 29,
   "metadata": {
    "hidden": true
   },
   "outputs": [
    {
     "name": "stdout",
     "output_type": "stream",
     "text": [
      "* \n",
      "* * \n",
      "* * * \n",
      "* * * * \n",
      "* * * * * \n",
      "* * * * \n",
      "* * * \n",
      "* * \n",
      "* \n"
     ]
    }
   ],
   "source": [
    "for i in range(1, 6):\n",
    "    star = '* ' * i\n",
    "    print(star)\n",
    "for k in range(4, 0, -1):\n",
    "    star = '* ' * k\n",
    "    print(star)"
   ]
  },
  {
   "cell_type": "code",
   "execution_count": 30,
   "metadata": {
    "hidden": true
   },
   "outputs": [
    {
     "name": "stdout",
     "output_type": "stream",
     "text": [
      "\n",
      "* \n",
      "* * \n",
      "* * * \n",
      "* * * * \n",
      "* * * * * \n",
      "* * * * \n",
      "* * * \n",
      "* * \n",
      "* \n"
     ]
    }
   ],
   "source": [
    "n = 5\n",
    "for i in range(n):\n",
    "    for j in range(i):\n",
    "        print('* ', end=\"\")\n",
    "    print('')\n",
    "\n",
    "for i in range(n, 0, -1):\n",
    "    for j in range(i):\n",
    "        print('* ', end=\"\")\n",
    "    print('')"
   ]
  },
  {
   "cell_type": "markdown",
   "metadata": {
    "heading_collapsed": true
   },
   "source": [
    "# Write a Python program that accepts a word from the user and reverse it."
   ]
  },
  {
   "cell_type": "code",
   "execution_count": 4,
   "metadata": {
    "hidden": true
   },
   "outputs": [
    {
     "name": "stdout",
     "output_type": "stream",
     "text": [
      "Enter a word hodor\n",
      "rodoh"
     ]
    }
   ],
   "source": [
    "def reverseString(exampleString):\n",
    "    lengthWord = int(len(exampleString))\n",
    "    for i in range(lengthWord - 1, -1, -1):\n",
    "        print(exampleString[i], end='')\n",
    "\n",
    "\n",
    "exampleString1 = input('Enter a word ')\n",
    "\n",
    "reverseString(exampleString1)"
   ]
  },
  {
   "cell_type": "markdown",
   "metadata": {
    "heading_collapsed": true
   },
   "source": [
    "# Write a Python program to count the number of even and odd numbers from a series of numbers."
   ]
  },
  {
   "cell_type": "code",
   "execution_count": 53,
   "metadata": {
    "hidden": true
   },
   "outputs": [
    {
     "name": "stdout",
     "output_type": "stream",
     "text": [
      "5\n",
      "4\n"
     ]
    }
   ],
   "source": [
    "numbers = (1, 2, 3, 4, 5, 6, 7, 8, 9)\n",
    "\n",
    "even_counter = 0\n",
    "odd_counter = 0\n",
    "\n",
    "for i in numbers:\n",
    "    if i % 2 == 0:\n",
    "        even_counter = even_counter + 1\n",
    "    else:\n",
    "        odd_counter = odd_counter + 1\n",
    "\n",
    "print(odd_counter)\n",
    "print(even_counter)"
   ]
  },
  {
   "cell_type": "markdown",
   "metadata": {
    "heading_collapsed": true
   },
   "source": [
    "# Write a Python program that prints each item and its corresponding type from the following list.\n",
    "Sample List : datalist = [1452, 11.23, 1+2j, True, 'w3resource', (0, -1), [5, 12], {\"class\":'V', \"section\":'A'}]"
   ]
  },
  {
   "cell_type": "code",
   "execution_count": 3,
   "metadata": {
    "hidden": true
   },
   "outputs": [
    {
     "name": "stdout",
     "output_type": "stream",
     "text": [
      "1452 <class 'int'>\n",
      "11.23 <class 'float'>\n",
      "(1+2j) <class 'complex'>\n",
      "True <class 'bool'>\n",
      "w3resource <class 'str'>\n",
      "(0, -1) <class 'tuple'>\n",
      "[5, 12] <class 'list'>\n",
      "{'class': 'V', 'section': 'A'} <class 'dict'>\n"
     ]
    }
   ],
   "source": [
    "datalist = [\n",
    "    1452, 11.23, 1 + 2j, True, 'w3resource', (0, -1), [5, 12], {\n",
    "        \"class\": 'V',\n",
    "        \"section\": 'A'\n",
    "    }\n",
    "]\n",
    "\n",
    "for item in datalist:\n",
    "    print(str(item) + ' ' + str(type(item)))"
   ]
  },
  {
   "cell_type": "markdown",
   "metadata": {
    "heading_collapsed": true
   },
   "source": [
    "# Write a Python program that prints all the numbers from 0 to 6 except 3 and 6."
   ]
  },
  {
   "cell_type": "code",
   "execution_count": 59,
   "metadata": {
    "hidden": true
   },
   "outputs": [
    {
     "name": "stdout",
     "output_type": "stream",
     "text": [
      "0\n",
      "1\n",
      "2\n",
      "4\n",
      "5\n"
     ]
    }
   ],
   "source": [
    "for i in range(0, 7):\n",
    "    if i == 3 or i == 6:\n",
    "        continue\n",
    "    else:\n",
    "        print(i)"
   ]
  },
  {
   "cell_type": "code",
   "execution_count": 8,
   "metadata": {
    "hidden": true
   },
   "outputs": [
    {
     "name": "stdout",
     "output_type": "stream",
     "text": [
      "1\n",
      "1\n",
      "2\n",
      "3\n",
      "5\n",
      "8\n",
      "13\n",
      "21\n",
      "34\n"
     ]
    }
   ],
   "source": [
    "x, y = 0, 1\n",
    "\n",
    "while y < 50:\n",
    "    print(y)\n",
    "    x, y = y, x + y"
   ]
  },
  {
   "cell_type": "markdown",
   "metadata": {
    "heading_collapsed": true
   },
   "source": [
    "#  Write a Python program which iterates the integers from 1 to 50. For multiples of three print \"Fizz\" instead of the number and for the multiples of five print \"Buzz\". For numbers which are multiples of both three and five print \"FizzBuzz\"."
   ]
  },
  {
   "cell_type": "code",
   "execution_count": 10,
   "metadata": {
    "hidden": true
   },
   "outputs": [
    {
     "name": "stdout",
     "output_type": "stream",
     "text": [
      "1\n",
      "2\n",
      "Fizz\n",
      "4\n",
      "Buzz\n",
      "Fizz\n",
      "7\n",
      "8\n",
      "Fizz\n",
      "Buzz\n",
      "11\n",
      "Fizz\n",
      "13\n",
      "14\n",
      "FizzBuzz\n",
      "16\n",
      "17\n",
      "Fizz\n",
      "19\n",
      "Buzz\n",
      "Fizz\n",
      "22\n",
      "23\n",
      "Fizz\n",
      "Buzz\n",
      "26\n",
      "Fizz\n",
      "28\n",
      "29\n",
      "FizzBuzz\n",
      "31\n",
      "32\n",
      "Fizz\n",
      "34\n",
      "Buzz\n",
      "Fizz\n",
      "37\n",
      "38\n",
      "Fizz\n",
      "Buzz\n",
      "41\n",
      "Fizz\n",
      "43\n",
      "44\n",
      "FizzBuzz\n",
      "46\n",
      "47\n",
      "Fizz\n",
      "49\n",
      "Buzz\n"
     ]
    }
   ],
   "source": [
    "for number in range(1, 51):\n",
    "    if number % 3 == 0 and number % 5 == 0:\n",
    "        print('FizzBuzz')\n",
    "    elif number % 3 == 0:\n",
    "        print('Fizz')\n",
    "    elif (number % 5 == 0):\n",
    "        print('Buzz')\n",
    "    else:\n",
    "        print(number)"
   ]
  },
  {
   "cell_type": "markdown",
   "metadata": {
    "heading_collapsed": true
   },
   "source": [
    "# Write a Python program that accepts a sequence of lines (blank line to terminate) as input and prints the lines as output (all characters in lower case)"
   ]
  },
  {
   "cell_type": "code",
   "execution_count": null,
   "metadata": {
    "hidden": true
   },
   "outputs": [],
   "source": [
    "def convertLower(string):\n",
    "    lower = string.lower()\n",
    "    print(lower)\n",
    "\n",
    "\n",
    "while True:\n",
    "    example = input('Enter a word, press enter when done')\n",
    "    convertLower(example)\n",
    "\n",
    "    if example == '':\n",
    "        break"
   ]
  },
  {
   "cell_type": "markdown",
   "metadata": {
    "heading_collapsed": true
   },
   "source": [
    "# Write a Python program that accepts a string and calculate the number of digits and letters."
   ]
  },
  {
   "cell_type": "code",
   "execution_count": 10,
   "metadata": {
    "hidden": true
   },
   "outputs": [
    {
     "name": "stdout",
     "output_type": "stream",
     "text": [
      "Enter a string h3loo312\n",
      "4\n",
      "4\n"
     ]
    }
   ],
   "source": [
    "def count(string):\n",
    "    digitCount = 0\n",
    "    letterCount = 0\n",
    "    for character in string:\n",
    "        try:\n",
    "            x = int(character)\n",
    "            if 0 <= x <= 9:\n",
    "                digitCount = digitCount + 1\n",
    "        except ValueError:\n",
    "            letterCount = letterCount + 1\n",
    "\n",
    "    print(letterCount)\n",
    "    print(digitCount)\n",
    "\n",
    "\n",
    "example = input('Enter a string ')\n",
    "count(example)"
   ]
  },
  {
   "cell_type": "code",
   "execution_count": 11,
   "metadata": {
    "hidden": true
   },
   "outputs": [
    {
     "name": "stdout",
     "output_type": "stream",
     "text": [
      "Input a stringh3llo321\n",
      "Letters 4\n",
      "Digits 4\n"
     ]
    }
   ],
   "source": [
    "s = input(\"Input a string\")\n",
    "d = l = 0\n",
    "for c in s:\n",
    "    if c.isdigit():\n",
    "        d = d + 1\n",
    "    elif c.isalpha():\n",
    "        l = l + 1\n",
    "    else:\n",
    "        pass\n",
    "print(\"Letters\", l)\n",
    "print(\"Digits\", d)"
   ]
  },
  {
   "cell_type": "markdown",
   "metadata": {
    "heading_collapsed": true
   },
   "source": [
    "# Write a Python program to check the validity of password input by users.\n",
    "Validation :\n",
    "At least 1 letter between [a-z] and 1 letter between [A-Z].\n",
    "\n",
    "At least 1 number between [0-9].\n",
    "\n",
    "At least 1 character from [$#@].\n",
    "\n",
    "Minimum length 6 characters.\n",
    "\n",
    "Maximum length 16 characters."
   ]
  },
  {
   "cell_type": "code",
   "execution_count": 20,
   "metadata": {
    "hidden": true
   },
   "outputs": [
    {
     "name": "stdout",
     "output_type": "stream",
     "text": [
      "Enter your password Passw0r\n",
      "Invalid password\n"
     ]
    }
   ],
   "source": [
    "import re\n",
    "\n",
    "x = True\n",
    "password = input('Enter your password ')\n",
    "while x:\n",
    "    if len(password) < 6 and len(password) > 16:\n",
    "        break\n",
    "    elif not re.search(r\"[@,$,#]\", password):\n",
    "        break\n",
    "\n",
    "    elif not re.search(r\"[a-z]\", password):\n",
    "        break\n",
    "\n",
    "    elif not re.search(r\"[A-Z]\", password):\n",
    "        break\n",
    "\n",
    "    else:\n",
    "        x = False\n",
    "        print('Valid password')\n",
    "\n",
    "if x == True:\n",
    "    print('Invalid password')"
   ]
  },
  {
   "cell_type": "markdown",
   "metadata": {},
   "source": [
    "# Write a Python program to find numbers between 100 and 400 (both included) where each digit of a number is an even number. The numbers obtained should be printed in a comma-separated sequence"
   ]
  },
  {
   "cell_type": "code",
   "execution_count": 29,
   "metadata": {},
   "outputs": [
    {
     "name": "stdout",
     "output_type": "stream",
     "text": [
      "['200', '202', '204', '206', '208', '220', '222', '224', '226', '228', '240', '242', '244', '246', '248', '260', '262', '264', '266', '268', '280', '282', '284', '286', '288', '400']\n"
     ]
    }
   ],
   "source": [
    "numList = []\n",
    "for number in range(100, 401):\n",
    "    str_number = str(number)\n",
    "    if int(str_number[0]) % 2 == 0 and int(str_number[1]) % 2 == 0 and int(\n",
    "            str_number[2]) % 2 == 0:\n",
    "        numList.append(str_number)\n",
    "print(numList)"
   ]
  },
  {
   "cell_type": "markdown",
   "metadata": {},
   "source": [
    "# Write a Python program to print alphabet pattern 'A'"
   ]
  },
  {
   "cell_type": "code",
   "execution_count": null,
   "metadata": {},
   "outputs": [],
   "source": [
    "'''\n",
    "  ***                                                                   \n",
    " *   *        \n",
    " *   *                                                                  \n",
    " *****                                                                  \n",
    " *   *                                                                  \n",
    " *   *                                                                  \n",
    " *   *\n",
    "'''"
   ]
  },
  {
   "cell_type": "code",
   "execution_count": 35,
   "metadata": {},
   "outputs": [
    {
     "data": {
      "text/plain": [
       "'\\n1st row = \\\\s{2}*{3}\\n2nd row = *\\\\s{3}*\\n3rd row = *\\\\s{3}*\\n4th row = *{5}\\n5th row = *\\\\s{3}*\\n6th row = *\\\\s{3}*\\n7th row = *\\\\s{3}*\\n'"
      ]
     },
     "execution_count": 35,
     "metadata": {},
     "output_type": "execute_result"
    }
   ],
   "source": [
    "'''\n",
    "1st row = \\s\\*{3}\\s\n",
    "2nd row = \\*\\s{3}*\n",
    "3rd row = \\*\\s{3}\\*\n",
    "4th row = \\*{5}\n",
    "5th row = \\*\\s{3}\\*\n",
    "6th row = \\*\\s{3}\\*\n",
    "7th row = \\*\\s{3}*\n",
    "'''"
   ]
  },
  {
   "cell_type": "code",
   "execution_count": 40,
   "metadata": {},
   "outputs": [
    {
     "name": "stdout",
     "output_type": "stream",
     "text": [
      " ***  \n",
      "*   *\n",
      "*   *\n",
      "*****\n",
      "*   *\n",
      "*   *\n",
      "*   *\n"
     ]
    }
   ],
   "source": [
    "for row in range(1, 8):\n",
    "    if 2 <= row <= 3 or 5 <= row <= 7:\n",
    "        print('*   *')\n",
    "    elif row == 1:\n",
    "        print(' ***  ')\n",
    "    elif row == 4:\n",
    "        print('*****')"
   ]
  },
  {
   "cell_type": "code",
   "execution_count": 42,
   "metadata": {},
   "outputs": [
    {
     "name": "stdout",
     "output_type": "stream",
     "text": [
      "  ***  \n",
      " *   * \n",
      " *   * \n",
      " ***** \n",
      " *   * \n",
      " *   * \n",
      " *   * \n",
      "\n"
     ]
    }
   ],
   "source": [
    "result_str = \"\"\n",
    "for row in range(0, 7):\n",
    "    for column in range(0, 7):\n",
    "        if (((column == 1 or column == 5) and row != 0)\n",
    "                or ((row == 0 or row == 3) and (column > 1 and column < 5))):\n",
    "            result_str = result_str + \"*\"\n",
    "        else:\n",
    "            result_str = result_str + \" \"\n",
    "    result_str = result_str + \"\\n\"\n",
    "print(result_str)"
   ]
  },
  {
   "cell_type": "markdown",
   "metadata": {},
   "source": [
    "# Write a Python program to check whether an alphabet is a vowel or consonant"
   ]
  },
  {
   "cell_type": "code",
   "execution_count": 1,
   "metadata": {},
   "outputs": [
    {
     "name": "stdout",
     "output_type": "stream",
     "text": [
      "Enter a word \n"
     ]
    }
   ],
   "source": [
    "def checkVowel(word):\n",
    "    '''accepts a string and matches each character to a list of vowels'''\n",
    "    vowels = ['a', 'e', 'i', 'o', 'u']\n",
    "    for letter in word:\n",
    "        if letter in vowels:\n",
    "            print(letter + ' is a vowel')\n",
    "        else:\n",
    "            print(letter + ' is a consonant')\n",
    "\n",
    "\n",
    "example = input('Enter a word ')\n",
    "example = list(example.lower())\n",
    "checkVowel(example)\n",
    "\n",
    "#Note that you can do:\n",
    "#if i in [list] as defined previously\n",
    "# you dont have to do:\n",
    "#for k in list:\n",
    "#    if i == k:"
   ]
  },
  {
   "cell_type": "markdown",
   "metadata": {},
   "source": [
    "# Write a Python program to check a string represent an integer or not."
   ]
  },
  {
   "cell_type": "code",
   "execution_count": 2,
   "metadata": {},
   "outputs": [
    {
     "name": "stdout",
     "output_type": "stream",
     "text": [
      "Enter an integer123ds\n",
      "123ds is not an integer\n"
     ]
    }
   ],
   "source": [
    "def checkInteger(string):\n",
    "    try:\n",
    "        x = int(string)\n",
    "        print(string + ' is an integer')\n",
    "\n",
    "    except:\n",
    "        print(string + ' is not an integer')\n",
    "\n",
    "\n",
    "example = input('Enter an integer ')\n",
    "checkInteger(example)"
   ]
  },
  {
   "cell_type": "markdown",
   "metadata": {},
   "source": [
    "# Write a Python program to check a triangle is equilateral, isosceles or scalene.\n",
    "Note :\n",
    "An equilateral triangle is a triangle in which all three sides are equal.\n",
    "A scalene triangle is a triangle that has three unequal sides.\n",
    "An isosceles triangle is a triangle with (at least) two equal sides."
   ]
  },
  {
   "cell_type": "code",
   "execution_count": 10,
   "metadata": {},
   "outputs": [
    {
     "name": "stdout",
     "output_type": "stream",
     "text": [
      "Enter a length2\n",
      "Enter a length3\n",
      "Enter a lengthx\n"
     ]
    },
    {
     "ename": "ValueError",
     "evalue": "invalid literal for int() with base 10: 'x'",
     "output_type": "error",
     "traceback": [
      "\u001b[1;31m---------------------------------------------------------------------------\u001b[0m",
      "\u001b[1;31mValueError\u001b[0m                                Traceback (most recent call last)",
      "\u001b[1;32m<ipython-input-10-d04fd3cf044b>\u001b[0m in \u001b[0;36m<module>\u001b[1;34m\u001b[0m\n\u001b[0;32m      1\u001b[0m \u001b[0mlengths\u001b[0m\u001b[1;33m=\u001b[0m\u001b[1;33m[\u001b[0m\u001b[1;33m]\u001b[0m\u001b[1;33m\u001b[0m\u001b[1;33m\u001b[0m\u001b[0m\n\u001b[0;32m      2\u001b[0m \u001b[1;32mfor\u001b[0m \u001b[0mi\u001b[0m \u001b[1;32min\u001b[0m \u001b[0mrange\u001b[0m \u001b[1;33m(\u001b[0m\u001b[1;36m0\u001b[0m\u001b[1;33m,\u001b[0m\u001b[1;36m3\u001b[0m\u001b[1;33m)\u001b[0m\u001b[1;33m:\u001b[0m\u001b[1;33m\u001b[0m\u001b[1;33m\u001b[0m\u001b[0m\n\u001b[1;32m----> 3\u001b[1;33m     \u001b[0mx\u001b[0m \u001b[1;33m=\u001b[0m \u001b[0mint\u001b[0m\u001b[1;33m(\u001b[0m\u001b[0minput\u001b[0m \u001b[1;33m(\u001b[0m\u001b[1;34m'Enter a length'\u001b[0m\u001b[1;33m)\u001b[0m\u001b[1;33m)\u001b[0m\u001b[1;33m\u001b[0m\u001b[1;33m\u001b[0m\u001b[0m\n\u001b[0m\u001b[0;32m      4\u001b[0m     \u001b[0mlengths\u001b[0m\u001b[1;33m.\u001b[0m\u001b[0mappend\u001b[0m\u001b[1;33m(\u001b[0m\u001b[0mx\u001b[0m\u001b[1;33m)\u001b[0m\u001b[1;33m\u001b[0m\u001b[1;33m\u001b[0m\u001b[0m\n\u001b[0;32m      5\u001b[0m \u001b[1;33m\u001b[0m\u001b[0m\n",
      "\u001b[1;31mValueError\u001b[0m: invalid literal for int() with base 10: 'x'"
     ]
    }
   ],
   "source": [
    "lengths = []\n",
    "for i in range(0, 3):\n",
    "    x = int(input('Enter a length'))\n",
    "    lengths.append(x)\n",
    "\n",
    "if lengths[0] == lengths[1] == lengths[2]:\n",
    "    print('This is a equilateral triangle')\n",
    "\n",
    "elif (lengths[0] == lengths[1]\n",
    "      and lengths[0] != lengths[2]) or (lengths[0] == lengths[2]\n",
    "                                        and lengths[0] != lengths[1]):\n",
    "    print('This is a isoceles triangle')\n",
    "\n",
    "elif (lengths[0] != lengths[1] != lengths[2]):\n",
    "\n",
    "    print('This is a scalene triangle')\n",
    "\n",
    "else:\n",
    "    print('Invalid')"
   ]
  },
  {
   "attachments": {
    "image.png": {
     "image/png": "[encoded data removed]"
    }
   },
   "cell_type": "markdown",
   "metadata": {},
   "source": [
    "# Write a Python program that reads two integers representing a month and day and prints the season for that month and day.\n",
    "![image.png](attachment:image.png)"
   ]
  },
  {
   "cell_type": "code",
   "execution_count": 13,
   "metadata": {},
   "outputs": [
    {
     "name": "stdout",
     "output_type": "stream",
     "text": [
      "Enter a monthmarch\n"
     ]
    },
    {
     "data": {
      "text/plain": [
       "set()"
      ]
     },
     "execution_count": 13,
     "metadata": {},
     "output_type": "execute_result"
    }
   ],
   "source": [
    "season = {\n",
    "    'spring': ['march', 'april', 'may'],\n",
    "    'summer': ['june', 'july', 'august'],\n",
    "    'autumn': ['september', 'october', 'november'],\n",
    "    'winter': ['december', 'january', 'february']\n",
    "}\n",
    "\n",
    "example = input('Enter a month').lower()\n",
    "'''\n",
    "def find_key(input_dict, value):\n",
    "    return {k for k, v in input_dict.items() if v == value}\n",
    "\n",
    "find_key(season,example)\n",
    "'''"
   ]
  },
  {
   "cell_type": "code",
   "execution_count": 4,
   "metadata": {},
   "outputs": [
    {
     "data": {
      "text/plain": [
       "('Argentina', 'Barcelona')"
      ]
     },
     "execution_count": 4,
     "metadata": {},
     "output_type": "execute_result"
    }
   ],
   "source": [
    "dict1 = {\n",
    "    'Messi': ('Argentina', 'Barcelona'),\n",
    "    'Ronaldo': ('Portugal', 'Juventus'),\n",
    "    'Robben': ('Netherlands', 'Bayern')\n",
    "}\n",
    "\n",
    "inputName = 'Messi'\n",
    "dict1.get(inputName, 'Player not found')"
   ]
  },
  {
   "cell_type": "code",
   "execution_count": 25,
   "metadata": {},
   "outputs": [
    {
     "data": {
      "text/plain": [
       "['test', 'here']"
      ]
     },
     "execution_count": 25,
     "metadata": {},
     "output_type": "execute_result"
    }
   ],
   "source": [
    "dictOfWords = {\n",
    "    \"hello\": 56,\n",
    "    \"at\": 23,\n",
    "    \"test\": 43,\n",
    "    \"this\": 97,\n",
    "    \"here\": 43,\n",
    "    \"now\": 97\n",
    "}\n",
    "\n",
    "\n",
    "def getKeysByValue(dictOfElements, valueToFind):\n",
    "    listOfKeys = list()\n",
    "    listOfItems = dictOfElements.items()\n",
    "    for item in listOfItems:\n",
    "        if item[1] == valueToFind:\n",
    "            listOfKeys.append(item[0])\n",
    "    return listOfKeys\n",
    "\n",
    "\n",
    "getKeysByValue(dictOfWords, 43)"
   ]
  },
  {
   "cell_type": "code",
   "execution_count": 36,
   "metadata": {},
   "outputs": [
    {
     "name": "stdout",
     "output_type": "stream",
     "text": [
      "('hello', 56)\n",
      "hello\n",
      "('at', 23)\n",
      "at\n",
      "('test', 43)\n",
      "test\n",
      "('this', 97)\n",
      "this\n",
      "('here', 43)\n",
      "here\n",
      "('now', 97)\n",
      "now\n"
     ]
    }
   ],
   "source": [
    "x = dictOfWords.items()\n",
    "for item in x:\n",
    "    print(item)\n",
    "    print(item[0])"
   ]
  },
  {
   "cell_type": "code",
   "execution_count": null,
   "metadata": {},
   "outputs": [],
   "source": []
  }
 ],
 "metadata": {
  "kernelspec": {
   "display_name": "Python 3",
   "language": "python",
   "name": "python3"
  },
  "toc": {
   "base_numbering": 1,
   "nav_menu": {},
   "number_sections": true,
   "sideBar": true,
   "skip_h1_title": false,
   "title_cell": "Table of Contents",
   "title_sidebar": "Contents",
   "toc_cell": false,
   "toc_position": {
    "height": "calc(100% - 180px)",
    "left": "10px",
    "top": "150px",
    "width": "307.2px"
   },
   "toc_section_display": true,
   "toc_window_display": true
  },
  "varInspector": {
   "cols": {
    "lenName": 16,
    "lenType": 16,
    "lenVar": 40
   },
   "kernels_config": {
    "python": {
     "delete_cmd_postfix": "",
     "delete_cmd_prefix": "del ",
     "library": "var_list.py",
     "varRefreshCmd": "print(var_dic_list())"
    },
    "r": {
     "delete_cmd_postfix": ") ",
     "delete_cmd_prefix": "rm(",
     "library": "var_list.r",
     "varRefreshCmd": "cat(var_dic_list()) "
    }
   },
   "position": {
    "height": "292.4px",
    "left": "1081.6px",
    "right": "20px",
    "top": "140px",
    "width": "350.4px"
   },
   "types_to_exclude": [
    "module",
    "function",
    "builtin_function_or_method",
    "instance",
    "_Feature"
   ],
   "window_display": false
  }
 },
 "nbformat": 4,
 "nbformat_minor": 2
}
