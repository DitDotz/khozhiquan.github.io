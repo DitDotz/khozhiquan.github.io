{
 "cells": [
  {
   "cell_type": "code",
   "execution_count": null,
   "metadata": {},
   "outputs": [],
   "source": []
  },
  {
   "cell_type": "markdown",
   "metadata": {},
   "source": [
    "# Write a Python program which accepts a sequence of comma-separated numbers from user and generate a list and a tuple with those numbers."
   ]
  },
  {
   "cell_type": "code",
   "execution_count": 1,
   "metadata": {},
   "outputs": [
    {
     "name": "stdout",
     "output_type": "stream",
     "text": [
      "Enter some CSVs 1,2,3,4,4,6\n",
      "['1', '2', '3', '4', '4', '6']\n",
      "('1', '2', '3', '4', '4', '6')\n"
     ]
    }
   ],
   "source": [
    "import re\n",
    "data = input('Enter some CSVs ')\n",
    "\n",
    "mo = re.split(',', data)\n",
    "print(mo)\n",
    "mo = tuple(mo)\n",
    "print(mo)"
   ]
  },
  {
   "cell_type": "markdown",
   "metadata": {},
   "source": [
    "# Write a Python program to accept a filename from the user and print the extension of that."
   ]
  },
  {
   "cell_type": "code",
   "execution_count": 20,
   "metadata": {},
   "outputs": [
    {
     "name": "stdout",
     "output_type": "stream",
     "text": [
      "['txt', 'doc', 'pdf']\n"
     ]
    }
   ],
   "source": [
    "import re\n",
    "\n",
    "files = ['123.txt', '354.doc', '45.pdf']\n",
    "\n",
    "labels = []\n",
    "for i in files:\n",
    "    fileType = re.compile(r'(\\w+)\\.(\\w+)')\n",
    "    mo = fileType.search(i)\n",
    "    labels.append(mo.group(2))\n",
    "\n",
    "print(labels)"
   ]
  },
  {
   "cell_type": "code",
   "execution_count": 2,
   "metadata": {},
   "outputs": [
    {
     "name": "stdout",
     "output_type": "stream",
     "text": [
      "Enter file name123.pdf\n",
      "['pdf']\n",
      "Enter file name123.doc\n",
      "['pdf', 'doc']\n",
      "Enter file name123.txt\n",
      "['pdf', 'doc', 'txt']\n",
      "Enter file name\n"
     ]
    }
   ],
   "source": [
    "fileType = []\n",
    "file = ' '\n",
    "while file != '':\n",
    "    file = input('Enter file name')\n",
    "    if file != '':\n",
    "        f_extension = file.split('.')\n",
    "        fileType.append(f_extension[-1])\n",
    "        print(fileType)"
   ]
  },
  {
   "cell_type": "markdown",
   "metadata": {},
   "source": [
    "# Write a Python program to get the difference between a given number and 17, if the number is greater than 17 return double the absolute difference."
   ]
  },
  {
   "cell_type": "markdown",
   "metadata": {},
   "source": [
    "num = int(input('Enter a number '))\n",
    "                \n",
    "result=lambda a:abs(17-a)\n",
    "print(result(num))\n",
    "          "
   ]
  },
  {
   "cell_type": "markdown",
   "metadata": {},
   "source": [
    "# Write a Python program to calculate the sum of three given numbers, if the values are equal then return thrice of their sum\n"
   ]
  },
  {
   "cell_type": "code",
   "execution_count": 6,
   "metadata": {},
   "outputs": [
    {
     "name": "stdout",
     "output_type": "stream",
     "text": [
      "Enter a number 2\n",
      "Enter a number 3\n",
      "Enter a number 3\n",
      "8\n"
     ]
    }
   ],
   "source": [
    "numList = []\n",
    "for i in range(3):\n",
    "    num = int(input('Enter a number '))\n",
    "    numList.append(num)\n",
    "if numList[0] == numList[1] == numList[2]:\n",
    "    print((sum(numList) * 3))\n",
    "\n",
    "else:\n",
    "    print(sum(numList))"
   ]
  },
  {
   "cell_type": "code",
   "execution_count": null,
   "metadata": {
    "collapsed": true
   },
   "outputs": [],
   "source": []
  }
 ],
 "metadata": {
  "kernelspec": {
   "display_name": "Python 3",
   "language": "python",
   "name": "python3"
  },
  "language_info": {
   "codemirror_mode": {
    "name": "ipython",
    "version": 3
   },
   "file_extension": ".py",
   "mimetype": "text/x-python",
   "name": "python",
   "nbconvert_exporter": "python",
   "pygments_lexer": "ipython3",
   "version": "3.7.3"
  },
  "toc": {
   "base_numbering": 1,
   "nav_menu": {},
   "number_sections": true,
   "sideBar": true,
   "skip_h1_title": false,
   "title_cell": "Table of Contents",
   "title_sidebar": "Contents",
   "toc_cell": false,
   "toc_position": {},
   "toc_section_display": true,
   "toc_window_display": true
  },
  "varInspector": {
   "cols": {
    "lenName": 16,
    "lenType": 16,
    "lenVar": 40
   },
   "kernels_config": {
    "python": {
     "delete_cmd_postfix": "",
     "delete_cmd_prefix": "del ",
     "library": "var_list.py",
     "varRefreshCmd": "print(var_dic_list())"
    },
    "r": {
     "delete_cmd_postfix": ") ",
     "delete_cmd_prefix": "rm(",
     "library": "var_list.r",
     "varRefreshCmd": "cat(var_dic_list()) "
    }
   },
   "position": {
    "height": "352.4px",
    "left": "950.6px",
    "right": "20px",
    "top": "123px",
    "width": "334.4px"
   },
   "types_to_exclude": [
    "module",
    "function",
    "builtin_function_or_method",
    "instance",
    "_Feature"
   ],
   "window_display": false
  }
 },
 "nbformat": 4,
 "nbformat_minor": 2
}
