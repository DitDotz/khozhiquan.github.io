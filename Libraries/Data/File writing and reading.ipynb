{
 "cells": [
  {
   "cell_type": "code",
   "execution_count": 11,
   "metadata": {},
   "outputs": [
    {
     "data": {
      "text/plain": [
       "'Desktop\\\\Results2'"
      ]
     },
     "execution_count": 11,
     "metadata": {},
     "output_type": "execute_result"
    }
   ],
   "source": [
    "import os\n",
    "path='C:\\\\Users\\\\zhiquan\\\\Desktop\\\\Results2'\n",
    "if os.path.exists(path)==False:\n",
    "    os.makedirs(path)\n",
    "\n",
    "os.path.isabs(path)\n",
    "os.path.relpath(path)"
   ]
  },
  {
   "cell_type": "code",
   "execution_count": 32,
   "metadata": {},
   "outputs": [
    {
     "name": "stdout",
     "output_type": "stream",
     "text": [
      "Hello world!gghello\n",
      "\n"
     ]
    }
   ],
   "source": [
    "helloFile = open('C:\\\\Users\\\\zhiquan\\\\Desktop\\\\hello.txt','w')\n",
    "helloFile.write('Hello world!')\n",
    "helloFile.write('gg')\n",
    "helloFile.write('hello\\n')\n",
    "helloFile.close()\n",
    "helloFile = open('C:\\\\Users\\\\zhiquan\\\\Desktop\\\\hello.txt')\n",
    "content = helloFile.read()\n",
    "print(content)\n",
    "helloFile.close()"
   ]
  },
  {
   "cell_type": "code",
   "execution_count": 13,
   "metadata": {
    "collapsed": true
   },
   "outputs": [],
   "source": []
  }
 ],
 "metadata": {
  "kernelspec": {
   "display_name": "Python 3",
   "language": "python",
   "name": "python3"
  },
  "language_info": {
   "codemirror_mode": {
    "name": "ipython",
    "version": 3
   },
   "file_extension": ".py",
   "mimetype": "text/x-python",
   "name": "python",
   "nbconvert_exporter": "python",
   "pygments_lexer": "ipython3",
   "version": "3.6.2"
  }
 },
 "nbformat": 4,
 "nbformat_minor": 2
}
